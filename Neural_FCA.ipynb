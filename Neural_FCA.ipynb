{
  "nbformat": 4,
  "nbformat_minor": 0,
  "metadata": {
    "colab": {
      "provenance": []
    },
    "kernelspec": {
      "name": "python3",
      "display_name": "Python 3"
    },
    "language_info": {
      "name": "python"
    }
  },
  "cells": [
    {
      "cell_type": "code",
      "execution_count": null,
      "metadata": {
        "id": "WoosedrkmDDl"
      },
      "outputs": [],
      "source": [
        "!pip install fcapy==0.1.4.1\n",
        "!pip install frozendict\n",
        "!pip install ipynb\n",
        "!pip install sparselinear\n",
        "!pip install bitsets\n",
        "!pip install bitarray\n",
        "\n",
        "!pip install torch-scatter -f https://data.pyg.org/whl/torch-1.13.0+cu116.html\n",
        "!pip install torch-sparse -f https://data.pyg.org/whl/torch-1.13.0+cu116.html\n",
        "!pip install torch-cluster -f https://data.pyg.org/whl/torch-1.13.0+cu116.html\n",
        "!pip install git+https://github.com/pyg-team/pytorch_geometric.git"
      ]
    },
    {
      "cell_type": "code",
      "source": [
        "from sparselinear import SparseLinear"
      ],
      "metadata": {
        "id": "KD6v9XKZnA8p"
      },
      "execution_count": 685,
      "outputs": []
    },
    {
      "cell_type": "code",
      "source": [
        "import neural_lib as nl"
      ],
      "metadata": {
        "id": "gQCyM1GhnLBw"
      },
      "execution_count": 686,
      "outputs": []
    },
    {
      "cell_type": "code",
      "source": [
        "import numpy as np\n",
        "import pandas as pd"
      ],
      "metadata": {
        "id": "uJMnc_jtoJ5U"
      },
      "execution_count": 687,
      "outputs": []
    },
    {
      "cell_type": "code",
      "source": [
        "from fcapy.context import FormalContext\n",
        "from fcapy.lattice import ConceptLattice"
      ],
      "metadata": {
        "id": "laHa5zp4oO-e"
      },
      "execution_count": 4,
      "outputs": []
    },
    {
      "cell_type": "code",
      "source": [
        "from fcapy.visualizer import LineVizNx\n",
        "import matplotlib.pyplot as plt\n",
        "\n",
        "plt.rcParams['figure.facecolor'] = (1,1,1,1)"
      ],
      "metadata": {
        "id": "8CzamvEeoPBM"
      },
      "execution_count": 5,
      "outputs": []
    },
    {
      "cell_type": "code",
      "source": [
        "df = pd.read_csv('Stars.csv')\n",
        "df.head()"
      ],
      "metadata": {
        "colab": {
          "base_uri": "https://localhost:8080/",
          "height": 206
        },
        "id": "dXBrHOCLoPEB",
        "outputId": "db6620a8-8048-480c-a70f-9c9fa72c2344"
      },
      "execution_count": 183,
      "outputs": [
        {
          "output_type": "execute_result",
          "data": {
            "text/plain": [
              "   Temperature         L       R    A_M Color Spectral_Class  Type\n",
              "0         3068  0.002400  0.1700  16.12   Red              M     0\n",
              "1         3042  0.000500  0.1542  16.60   Red              M     0\n",
              "2         2600  0.000300  0.1020  18.70   Red              M     0\n",
              "3         2800  0.000200  0.1600  16.65   Red              M     0\n",
              "4         1939  0.000138  0.1030  20.06   Red              M     0"
            ],
            "text/html": [
              "\n",
              "  <div id=\"df-07516680-b677-4abd-a661-695b563afbf9\">\n",
              "    <div class=\"colab-df-container\">\n",
              "      <div>\n",
              "<style scoped>\n",
              "    .dataframe tbody tr th:only-of-type {\n",
              "        vertical-align: middle;\n",
              "    }\n",
              "\n",
              "    .dataframe tbody tr th {\n",
              "        vertical-align: top;\n",
              "    }\n",
              "\n",
              "    .dataframe thead th {\n",
              "        text-align: right;\n",
              "    }\n",
              "</style>\n",
              "<table border=\"1\" class=\"dataframe\">\n",
              "  <thead>\n",
              "    <tr style=\"text-align: right;\">\n",
              "      <th></th>\n",
              "      <th>Temperature</th>\n",
              "      <th>L</th>\n",
              "      <th>R</th>\n",
              "      <th>A_M</th>\n",
              "      <th>Color</th>\n",
              "      <th>Spectral_Class</th>\n",
              "      <th>Type</th>\n",
              "    </tr>\n",
              "  </thead>\n",
              "  <tbody>\n",
              "    <tr>\n",
              "      <th>0</th>\n",
              "      <td>3068</td>\n",
              "      <td>0.002400</td>\n",
              "      <td>0.1700</td>\n",
              "      <td>16.12</td>\n",
              "      <td>Red</td>\n",
              "      <td>M</td>\n",
              "      <td>0</td>\n",
              "    </tr>\n",
              "    <tr>\n",
              "      <th>1</th>\n",
              "      <td>3042</td>\n",
              "      <td>0.000500</td>\n",
              "      <td>0.1542</td>\n",
              "      <td>16.60</td>\n",
              "      <td>Red</td>\n",
              "      <td>M</td>\n",
              "      <td>0</td>\n",
              "    </tr>\n",
              "    <tr>\n",
              "      <th>2</th>\n",
              "      <td>2600</td>\n",
              "      <td>0.000300</td>\n",
              "      <td>0.1020</td>\n",
              "      <td>18.70</td>\n",
              "      <td>Red</td>\n",
              "      <td>M</td>\n",
              "      <td>0</td>\n",
              "    </tr>\n",
              "    <tr>\n",
              "      <th>3</th>\n",
              "      <td>2800</td>\n",
              "      <td>0.000200</td>\n",
              "      <td>0.1600</td>\n",
              "      <td>16.65</td>\n",
              "      <td>Red</td>\n",
              "      <td>M</td>\n",
              "      <td>0</td>\n",
              "    </tr>\n",
              "    <tr>\n",
              "      <th>4</th>\n",
              "      <td>1939</td>\n",
              "      <td>0.000138</td>\n",
              "      <td>0.1030</td>\n",
              "      <td>20.06</td>\n",
              "      <td>Red</td>\n",
              "      <td>M</td>\n",
              "      <td>0</td>\n",
              "    </tr>\n",
              "  </tbody>\n",
              "</table>\n",
              "</div>\n",
              "      <button class=\"colab-df-convert\" onclick=\"convertToInteractive('df-07516680-b677-4abd-a661-695b563afbf9')\"\n",
              "              title=\"Convert this dataframe to an interactive table.\"\n",
              "              style=\"display:none;\">\n",
              "        \n",
              "  <svg xmlns=\"http://www.w3.org/2000/svg\" height=\"24px\"viewBox=\"0 0 24 24\"\n",
              "       width=\"24px\">\n",
              "    <path d=\"M0 0h24v24H0V0z\" fill=\"none\"/>\n",
              "    <path d=\"M18.56 5.44l.94 2.06.94-2.06 2.06-.94-2.06-.94-.94-2.06-.94 2.06-2.06.94zm-11 1L8.5 8.5l.94-2.06 2.06-.94-2.06-.94L8.5 2.5l-.94 2.06-2.06.94zm10 10l.94 2.06.94-2.06 2.06-.94-2.06-.94-.94-2.06-.94 2.06-2.06.94z\"/><path d=\"M17.41 7.96l-1.37-1.37c-.4-.4-.92-.59-1.43-.59-.52 0-1.04.2-1.43.59L10.3 9.45l-7.72 7.72c-.78.78-.78 2.05 0 2.83L4 21.41c.39.39.9.59 1.41.59.51 0 1.02-.2 1.41-.59l7.78-7.78 2.81-2.81c.8-.78.8-2.07 0-2.86zM5.41 20L4 18.59l7.72-7.72 1.47 1.35L5.41 20z\"/>\n",
              "  </svg>\n",
              "      </button>\n",
              "      \n",
              "  <style>\n",
              "    .colab-df-container {\n",
              "      display:flex;\n",
              "      flex-wrap:wrap;\n",
              "      gap: 12px;\n",
              "    }\n",
              "\n",
              "    .colab-df-convert {\n",
              "      background-color: #E8F0FE;\n",
              "      border: none;\n",
              "      border-radius: 50%;\n",
              "      cursor: pointer;\n",
              "      display: none;\n",
              "      fill: #1967D2;\n",
              "      height: 32px;\n",
              "      padding: 0 0 0 0;\n",
              "      width: 32px;\n",
              "    }\n",
              "\n",
              "    .colab-df-convert:hover {\n",
              "      background-color: #E2EBFA;\n",
              "      box-shadow: 0px 1px 2px rgba(60, 64, 67, 0.3), 0px 1px 3px 1px rgba(60, 64, 67, 0.15);\n",
              "      fill: #174EA6;\n",
              "    }\n",
              "\n",
              "    [theme=dark] .colab-df-convert {\n",
              "      background-color: #3B4455;\n",
              "      fill: #D2E3FC;\n",
              "    }\n",
              "\n",
              "    [theme=dark] .colab-df-convert:hover {\n",
              "      background-color: #434B5C;\n",
              "      box-shadow: 0px 1px 3px 1px rgba(0, 0, 0, 0.15);\n",
              "      filter: drop-shadow(0px 1px 2px rgba(0, 0, 0, 0.3));\n",
              "      fill: #FFFFFF;\n",
              "    }\n",
              "  </style>\n",
              "\n",
              "      <script>\n",
              "        const buttonEl =\n",
              "          document.querySelector('#df-07516680-b677-4abd-a661-695b563afbf9 button.colab-df-convert');\n",
              "        buttonEl.style.display =\n",
              "          google.colab.kernel.accessAllowed ? 'block' : 'none';\n",
              "\n",
              "        async function convertToInteractive(key) {\n",
              "          const element = document.querySelector('#df-07516680-b677-4abd-a661-695b563afbf9');\n",
              "          const dataTable =\n",
              "            await google.colab.kernel.invokeFunction('convertToInteractive',\n",
              "                                                     [key], {});\n",
              "          if (!dataTable) return;\n",
              "\n",
              "          const docLinkHtml = 'Like what you see? Visit the ' +\n",
              "            '<a target=\"_blank\" href=https://colab.research.google.com/notebooks/data_table.ipynb>data table notebook</a>'\n",
              "            + ' to learn more about interactive tables.';\n",
              "          element.innerHTML = '';\n",
              "          dataTable['output_type'] = 'display_data';\n",
              "          await google.colab.output.renderOutput(dataTable, element);\n",
              "          const docLink = document.createElement('div');\n",
              "          docLink.innerHTML = docLinkHtml;\n",
              "          element.appendChild(docLink);\n",
              "        }\n",
              "      </script>\n",
              "    </div>\n",
              "  </div>\n",
              "  "
            ]
          },
          "metadata": {},
          "execution_count": 183
        }
      ]
    },
    {
      "cell_type": "markdown",
      "source": [
        "# Pipeline"
      ],
      "metadata": {
        "id": "GVN7ZR91oYmb"
      }
    },
    {
      "cell_type": "markdown",
      "source": [
        "# Step 0. Binarize the data"
      ],
      "metadata": {
        "id": "gdphgH5ZoaKA"
      }
    },
    {
      "cell_type": "code",
      "source": [],
      "metadata": {
        "id": "cm8j3btKgpHa"
      },
      "execution_count": 56,
      "outputs": []
    },
    {
      "cell_type": "code",
      "source": [
        "def bin_less(bin):\n",
        "  return [True]*bin[0] + [False]*(5-bin[0])\n",
        "\n",
        "\n",
        "def binarize_by_bin(df,col_name,bins):\n",
        "  \n",
        "  which_bin = np.digitize(np.array(df[col_name]).reshape(-1, 1), bins=bins)\n",
        "  X_binned = np.apply_along_axis(bin_less,1, which_bin)\n",
        "\n",
        "  return pd.DataFrame(X_binned,columns = [ '>' + str(bin) for bin in bins])"
      ],
      "metadata": {
        "id": "M4DgXzOhSpBY"
      },
      "execution_count": 491,
      "outputs": []
    },
    {
      "cell_type": "code",
      "source": [
        "Temp = binarize_by_bin(df,'Temperature',[3700, 5200, 6000,7500,10000])\n"
      ],
      "metadata": {
        "id": "2DcpU1kjTkvJ"
      },
      "execution_count": 492,
      "outputs": []
    },
    {
      "cell_type": "code",
      "source": [
        "Lum = binarize_by_bin(df,'L',[0.08, 0.6, 1.5, 5, 25])"
      ],
      "metadata": {
        "id": "NFWy_kN1YL2J"
      },
      "execution_count": 493,
      "outputs": []
    },
    {
      "cell_type": "code",
      "source": [
        "Rad = binarize_by_bin(df,'R',[0.7, 0.96, 1.15, 1.4, 1.8])"
      ],
      "metadata": {
        "id": "RfYZwB-vdbGi"
      },
      "execution_count": 494,
      "outputs": []
    },
    {
      "cell_type": "code",
      "source": [
        "from sklearn.preprocessing import OneHotEncoder\n",
        "\n",
        "def binarize_cat(df,col_name):\n",
        "  encoder = OneHotEncoder(sparse_output=False,min_frequency=0.12)\n",
        "  b = encoder.fit_transform(df[col_name].to_numpy().reshape(-1,1))\n",
        "  b = np.apply_along_axis(lambda x: np.where(x==1, True, False),1,b)\n",
        "  return pd.DataFrame(b,columns = [ col_name[0]+ '_' + bin[3:] for bin in encoder.get_feature_names_out()])"
      ],
      "metadata": {
        "id": "OQTgK3cTdTxU"
      },
      "execution_count": 546,
      "outputs": []
    },
    {
      "cell_type": "code",
      "source": [
        "SpCl = binarize_cat(df,'Spectral_Class').rename(columns={'S_infrequent_sklearn':'S_oth'})\n",
        "Clr = binarize_cat(df,'Color').rename(columns={'C_infrequent_sklearn':'C_Yel'})"
      ],
      "metadata": {
        "id": "DWNBpMRHmCAI"
      },
      "execution_count": 551,
      "outputs": []
    },
    {
      "cell_type": "code",
      "source": [
        "Type = pd.DataFrame(df.apply(lambda x: True if int(x.Type)>2 else False, axis=1))"
      ],
      "metadata": {
        "id": "xDGGu7nynCNL"
      },
      "execution_count": 552,
      "outputs": []
    },
    {
      "cell_type": "code",
      "source": [
        "df_bin = pd.concat([Temp, Rad,Clr, Type], axis=1)\n",
        "df_bin.index = [str(x) for x in df_bin.index.tolist()]\n",
        "df_bin = df_bin.rename(columns={0:'y'})"
      ],
      "metadata": {
        "id": "osrpVg79pbYI"
      },
      "execution_count": 596,
      "outputs": []
    },
    {
      "cell_type": "code",
      "source": [
        "df_bin"
      ],
      "metadata": {
        "colab": {
          "base_uri": "https://localhost:8080/",
          "height": 424
        },
        "id": "cH36Us1YKiOJ",
        "outputId": "510961c2-16ea-4725-b9cb-dca3f52cfa70"
      },
      "execution_count": 597,
      "outputs": [
        {
          "output_type": "execute_result",
          "data": {
            "text/plain": [
              "     >3700  >5200  >6000  >7500  >10000   >0.7  >0.96  >1.15   >1.4   >1.8  \\\n",
              "0    False  False  False  False   False  False  False  False  False  False   \n",
              "1    False  False  False  False   False  False  False  False  False  False   \n",
              "2    False  False  False  False   False  False  False  False  False  False   \n",
              "3    False  False  False  False   False  False  False  False  False  False   \n",
              "4    False  False  False  False   False  False  False  False  False  False   \n",
              "..     ...    ...    ...    ...     ...    ...    ...    ...    ...    ...   \n",
              "235   True   True   True   True    True   True   True   True   True   True   \n",
              "236   True   True   True   True    True   True   True   True   True   True   \n",
              "237   True   True   True   True   False   True   True   True   True   True   \n",
              "238   True   True   True   True   False   True   True   True   True   True   \n",
              "239   True   True   True   True    True   True   True   True   True   True   \n",
              "\n",
              "     C_Blue  C_Red  C_Yel      y  \n",
              "0     False   True  False  False  \n",
              "1     False   True  False  False  \n",
              "2     False   True  False  False  \n",
              "3     False   True  False  False  \n",
              "4     False   True  False  False  \n",
              "..      ...    ...    ...    ...  \n",
              "235    True  False  False   True  \n",
              "236    True  False  False   True  \n",
              "237   False  False   True   True  \n",
              "238   False  False   True   True  \n",
              "239    True  False  False   True  \n",
              "\n",
              "[240 rows x 14 columns]"
            ],
            "text/html": [
              "\n",
              "  <div id=\"df-77638176-d4dd-48b0-b27f-2af78850923a\">\n",
              "    <div class=\"colab-df-container\">\n",
              "      <div>\n",
              "<style scoped>\n",
              "    .dataframe tbody tr th:only-of-type {\n",
              "        vertical-align: middle;\n",
              "    }\n",
              "\n",
              "    .dataframe tbody tr th {\n",
              "        vertical-align: top;\n",
              "    }\n",
              "\n",
              "    .dataframe thead th {\n",
              "        text-align: right;\n",
              "    }\n",
              "</style>\n",
              "<table border=\"1\" class=\"dataframe\">\n",
              "  <thead>\n",
              "    <tr style=\"text-align: right;\">\n",
              "      <th></th>\n",
              "      <th>&gt;3700</th>\n",
              "      <th>&gt;5200</th>\n",
              "      <th>&gt;6000</th>\n",
              "      <th>&gt;7500</th>\n",
              "      <th>&gt;10000</th>\n",
              "      <th>&gt;0.7</th>\n",
              "      <th>&gt;0.96</th>\n",
              "      <th>&gt;1.15</th>\n",
              "      <th>&gt;1.4</th>\n",
              "      <th>&gt;1.8</th>\n",
              "      <th>C_Blue</th>\n",
              "      <th>C_Red</th>\n",
              "      <th>C_Yel</th>\n",
              "      <th>y</th>\n",
              "    </tr>\n",
              "  </thead>\n",
              "  <tbody>\n",
              "    <tr>\n",
              "      <th>0</th>\n",
              "      <td>False</td>\n",
              "      <td>False</td>\n",
              "      <td>False</td>\n",
              "      <td>False</td>\n",
              "      <td>False</td>\n",
              "      <td>False</td>\n",
              "      <td>False</td>\n",
              "      <td>False</td>\n",
              "      <td>False</td>\n",
              "      <td>False</td>\n",
              "      <td>False</td>\n",
              "      <td>True</td>\n",
              "      <td>False</td>\n",
              "      <td>False</td>\n",
              "    </tr>\n",
              "    <tr>\n",
              "      <th>1</th>\n",
              "      <td>False</td>\n",
              "      <td>False</td>\n",
              "      <td>False</td>\n",
              "      <td>False</td>\n",
              "      <td>False</td>\n",
              "      <td>False</td>\n",
              "      <td>False</td>\n",
              "      <td>False</td>\n",
              "      <td>False</td>\n",
              "      <td>False</td>\n",
              "      <td>False</td>\n",
              "      <td>True</td>\n",
              "      <td>False</td>\n",
              "      <td>False</td>\n",
              "    </tr>\n",
              "    <tr>\n",
              "      <th>2</th>\n",
              "      <td>False</td>\n",
              "      <td>False</td>\n",
              "      <td>False</td>\n",
              "      <td>False</td>\n",
              "      <td>False</td>\n",
              "      <td>False</td>\n",
              "      <td>False</td>\n",
              "      <td>False</td>\n",
              "      <td>False</td>\n",
              "      <td>False</td>\n",
              "      <td>False</td>\n",
              "      <td>True</td>\n",
              "      <td>False</td>\n",
              "      <td>False</td>\n",
              "    </tr>\n",
              "    <tr>\n",
              "      <th>3</th>\n",
              "      <td>False</td>\n",
              "      <td>False</td>\n",
              "      <td>False</td>\n",
              "      <td>False</td>\n",
              "      <td>False</td>\n",
              "      <td>False</td>\n",
              "      <td>False</td>\n",
              "      <td>False</td>\n",
              "      <td>False</td>\n",
              "      <td>False</td>\n",
              "      <td>False</td>\n",
              "      <td>True</td>\n",
              "      <td>False</td>\n",
              "      <td>False</td>\n",
              "    </tr>\n",
              "    <tr>\n",
              "      <th>4</th>\n",
              "      <td>False</td>\n",
              "      <td>False</td>\n",
              "      <td>False</td>\n",
              "      <td>False</td>\n",
              "      <td>False</td>\n",
              "      <td>False</td>\n",
              "      <td>False</td>\n",
              "      <td>False</td>\n",
              "      <td>False</td>\n",
              "      <td>False</td>\n",
              "      <td>False</td>\n",
              "      <td>True</td>\n",
              "      <td>False</td>\n",
              "      <td>False</td>\n",
              "    </tr>\n",
              "    <tr>\n",
              "      <th>...</th>\n",
              "      <td>...</td>\n",
              "      <td>...</td>\n",
              "      <td>...</td>\n",
              "      <td>...</td>\n",
              "      <td>...</td>\n",
              "      <td>...</td>\n",
              "      <td>...</td>\n",
              "      <td>...</td>\n",
              "      <td>...</td>\n",
              "      <td>...</td>\n",
              "      <td>...</td>\n",
              "      <td>...</td>\n",
              "      <td>...</td>\n",
              "      <td>...</td>\n",
              "    </tr>\n",
              "    <tr>\n",
              "      <th>235</th>\n",
              "      <td>True</td>\n",
              "      <td>True</td>\n",
              "      <td>True</td>\n",
              "      <td>True</td>\n",
              "      <td>True</td>\n",
              "      <td>True</td>\n",
              "      <td>True</td>\n",
              "      <td>True</td>\n",
              "      <td>True</td>\n",
              "      <td>True</td>\n",
              "      <td>True</td>\n",
              "      <td>False</td>\n",
              "      <td>False</td>\n",
              "      <td>True</td>\n",
              "    </tr>\n",
              "    <tr>\n",
              "      <th>236</th>\n",
              "      <td>True</td>\n",
              "      <td>True</td>\n",
              "      <td>True</td>\n",
              "      <td>True</td>\n",
              "      <td>True</td>\n",
              "      <td>True</td>\n",
              "      <td>True</td>\n",
              "      <td>True</td>\n",
              "      <td>True</td>\n",
              "      <td>True</td>\n",
              "      <td>True</td>\n",
              "      <td>False</td>\n",
              "      <td>False</td>\n",
              "      <td>True</td>\n",
              "    </tr>\n",
              "    <tr>\n",
              "      <th>237</th>\n",
              "      <td>True</td>\n",
              "      <td>True</td>\n",
              "      <td>True</td>\n",
              "      <td>True</td>\n",
              "      <td>False</td>\n",
              "      <td>True</td>\n",
              "      <td>True</td>\n",
              "      <td>True</td>\n",
              "      <td>True</td>\n",
              "      <td>True</td>\n",
              "      <td>False</td>\n",
              "      <td>False</td>\n",
              "      <td>True</td>\n",
              "      <td>True</td>\n",
              "    </tr>\n",
              "    <tr>\n",
              "      <th>238</th>\n",
              "      <td>True</td>\n",
              "      <td>True</td>\n",
              "      <td>True</td>\n",
              "      <td>True</td>\n",
              "      <td>False</td>\n",
              "      <td>True</td>\n",
              "      <td>True</td>\n",
              "      <td>True</td>\n",
              "      <td>True</td>\n",
              "      <td>True</td>\n",
              "      <td>False</td>\n",
              "      <td>False</td>\n",
              "      <td>True</td>\n",
              "      <td>True</td>\n",
              "    </tr>\n",
              "    <tr>\n",
              "      <th>239</th>\n",
              "      <td>True</td>\n",
              "      <td>True</td>\n",
              "      <td>True</td>\n",
              "      <td>True</td>\n",
              "      <td>True</td>\n",
              "      <td>True</td>\n",
              "      <td>True</td>\n",
              "      <td>True</td>\n",
              "      <td>True</td>\n",
              "      <td>True</td>\n",
              "      <td>True</td>\n",
              "      <td>False</td>\n",
              "      <td>False</td>\n",
              "      <td>True</td>\n",
              "    </tr>\n",
              "  </tbody>\n",
              "</table>\n",
              "<p>240 rows × 14 columns</p>\n",
              "</div>\n",
              "      <button class=\"colab-df-convert\" onclick=\"convertToInteractive('df-77638176-d4dd-48b0-b27f-2af78850923a')\"\n",
              "              title=\"Convert this dataframe to an interactive table.\"\n",
              "              style=\"display:none;\">\n",
              "        \n",
              "  <svg xmlns=\"http://www.w3.org/2000/svg\" height=\"24px\"viewBox=\"0 0 24 24\"\n",
              "       width=\"24px\">\n",
              "    <path d=\"M0 0h24v24H0V0z\" fill=\"none\"/>\n",
              "    <path d=\"M18.56 5.44l.94 2.06.94-2.06 2.06-.94-2.06-.94-.94-2.06-.94 2.06-2.06.94zm-11 1L8.5 8.5l.94-2.06 2.06-.94-2.06-.94L8.5 2.5l-.94 2.06-2.06.94zm10 10l.94 2.06.94-2.06 2.06-.94-2.06-.94-.94-2.06-.94 2.06-2.06.94z\"/><path d=\"M17.41 7.96l-1.37-1.37c-.4-.4-.92-.59-1.43-.59-.52 0-1.04.2-1.43.59L10.3 9.45l-7.72 7.72c-.78.78-.78 2.05 0 2.83L4 21.41c.39.39.9.59 1.41.59.51 0 1.02-.2 1.41-.59l7.78-7.78 2.81-2.81c.8-.78.8-2.07 0-2.86zM5.41 20L4 18.59l7.72-7.72 1.47 1.35L5.41 20z\"/>\n",
              "  </svg>\n",
              "      </button>\n",
              "      \n",
              "  <style>\n",
              "    .colab-df-container {\n",
              "      display:flex;\n",
              "      flex-wrap:wrap;\n",
              "      gap: 12px;\n",
              "    }\n",
              "\n",
              "    .colab-df-convert {\n",
              "      background-color: #E8F0FE;\n",
              "      border: none;\n",
              "      border-radius: 50%;\n",
              "      cursor: pointer;\n",
              "      display: none;\n",
              "      fill: #1967D2;\n",
              "      height: 32px;\n",
              "      padding: 0 0 0 0;\n",
              "      width: 32px;\n",
              "    }\n",
              "\n",
              "    .colab-df-convert:hover {\n",
              "      background-color: #E2EBFA;\n",
              "      box-shadow: 0px 1px 2px rgba(60, 64, 67, 0.3), 0px 1px 3px 1px rgba(60, 64, 67, 0.15);\n",
              "      fill: #174EA6;\n",
              "    }\n",
              "\n",
              "    [theme=dark] .colab-df-convert {\n",
              "      background-color: #3B4455;\n",
              "      fill: #D2E3FC;\n",
              "    }\n",
              "\n",
              "    [theme=dark] .colab-df-convert:hover {\n",
              "      background-color: #434B5C;\n",
              "      box-shadow: 0px 1px 3px 1px rgba(0, 0, 0, 0.15);\n",
              "      filter: drop-shadow(0px 1px 2px rgba(0, 0, 0, 0.3));\n",
              "      fill: #FFFFFF;\n",
              "    }\n",
              "  </style>\n",
              "\n",
              "      <script>\n",
              "        const buttonEl =\n",
              "          document.querySelector('#df-77638176-d4dd-48b0-b27f-2af78850923a button.colab-df-convert');\n",
              "        buttonEl.style.display =\n",
              "          google.colab.kernel.accessAllowed ? 'block' : 'none';\n",
              "\n",
              "        async function convertToInteractive(key) {\n",
              "          const element = document.querySelector('#df-77638176-d4dd-48b0-b27f-2af78850923a');\n",
              "          const dataTable =\n",
              "            await google.colab.kernel.invokeFunction('convertToInteractive',\n",
              "                                                     [key], {});\n",
              "          if (!dataTable) return;\n",
              "\n",
              "          const docLinkHtml = 'Like what you see? Visit the ' +\n",
              "            '<a target=\"_blank\" href=https://colab.research.google.com/notebooks/data_table.ipynb>data table notebook</a>'\n",
              "            + ' to learn more about interactive tables.';\n",
              "          element.innerHTML = '';\n",
              "          dataTable['output_type'] = 'display_data';\n",
              "          await google.colab.output.renderOutput(dataTable, element);\n",
              "          const docLink = document.createElement('div');\n",
              "          docLink.innerHTML = docLinkHtml;\n",
              "          element.appendChild(docLink);\n",
              "        }\n",
              "      </script>\n",
              "    </div>\n",
              "  </div>\n",
              "  "
            ]
          },
          "metadata": {},
          "execution_count": 597
        }
      ]
    },
    {
      "cell_type": "markdown",
      "source": [
        "Split the data to train and test"
      ],
      "metadata": {
        "id": "wEXoIHl1ofNO"
      }
    },
    {
      "cell_type": "code",
      "source": [
        "from sklearn.model_selection import train_test_split\n",
        "\n",
        "X_train, X_test, y_train, y_test = train_test_split(df_bin.drop(columns=['y']), df_bin['y'], test_size=0.33, random_state=42)"
      ],
      "metadata": {
        "id": "lVPZAO2loPJg"
      },
      "execution_count": 598,
      "outputs": []
    },
    {
      "cell_type": "markdown",
      "source": [
        "## Step 1. Build Monotone Concept Lattice"
      ],
      "metadata": {
        "id": "S-rhQvtVoo9v"
      }
    },
    {
      "cell_type": "markdown",
      "source": [
        "\n",
        "Put binarized data in FormalContext and compute monotone ConceptLattice"
      ],
      "metadata": {
        "id": "JeXfQ3LlopAk"
      }
    },
    {
      "cell_type": "code",
      "source": [
        "K_train = FormalContext.from_pandas(X_train)\n",
        "K_train"
      ],
      "metadata": {
        "colab": {
          "base_uri": "https://localhost:8080/"
        },
        "id": "oE70dil-oPPL",
        "outputId": "df74ffb8-0938-4457-ae0e-6f2c279bc264"
      },
      "execution_count": 599,
      "outputs": [
        {
          "output_type": "execute_result",
          "data": {
            "text/plain": [
              "FormalContext (160 objects, 13 attributes, 934 connections)\n",
              "   |>3700|>5200|>6000|>7500|>10000|...|>1.4|>1.8|C_Blue|C_Red|C_Yel|\n",
              "97 |    X|    X|    X|    X|      |...|    |    |      |     |    X|\n",
              "65 |     |     |     |     |      |...|    |    |      |    X|     |\n",
              "212|    X|    X|    X|    X|     X|...|   X|   X|      |     |    X|\n",
              "208|    X|    X|    X|    X|     X|...|    |    |     X|     |     |\n",
              "142|    X|    X|    X|    X|     X|...|    |    |     X|     |     |\n",
              "31 |    X|    X|    X|    X|     X|...|   X|   X|      |     |    X|\n",
              "12 |     |     |     |     |      |...|    |    |      |    X|     |\n",
              "35 |    X|    X|    X|    X|      |...|   X|   X|      |     |    X|\n",
              "28 |    X|    X|    X|    X|     X|...|    |    |      |     |    X|\n",
              "42 |     |     |     |     |      |...|   X|   X|      |    X|     |\n",
              "....................................................................\n",
              "....................................................................\n",
              "121|     |     |     |     |      |...|    |    |      |    X|     |\n",
              "239|    X|    X|    X|    X|     X|...|   X|   X|     X|     |     |\n",
              "20 |    X|    X|    X|    X|     X|...|    |    |      |     |    X|\n",
              "188|     |     |     |     |      |...|    |    |      |    X|     |\n",
              "71 |     |     |     |     |      |...|    |    |      |    X|     |\n",
              "106|    X|    X|    X|    X|     X|...|   X|   X|     X|     |     |\n",
              "14 |     |     |     |     |      |...|    |    |      |    X|     |\n",
              "92 |    X|     |     |     |      |...|    |    |      |     |    X|\n",
              "179|    X|    X|    X|    X|     X|...|   X|   X|      |     |    X|\n",
              "102|    X|    X|    X|    X|     X|...|   X|   X|     X|     |     |"
            ]
          },
          "metadata": {},
          "execution_count": 599
        }
      ]
    },
    {
      "cell_type": "code",
      "source": [
        "L = ConceptLattice.from_context(K_train, is_monotone=True)\n",
        "len(L)"
      ],
      "metadata": {
        "colab": {
          "base_uri": "https://localhost:8080/"
        },
        "id": "z1XkmsHMov-j",
        "outputId": "2edec015-9172-41d3-d381-d64492213b88"
      },
      "execution_count": 600,
      "outputs": [
        {
          "output_type": "execute_result",
          "data": {
            "text/plain": [
              "70"
            ]
          },
          "metadata": {},
          "execution_count": 600
        }
      ]
    },
    {
      "cell_type": "markdown",
      "source": [
        "Compute F1 score for each formal concept  (assuming that an object is predicted True if it is in the extent of the concept)"
      ],
      "metadata": {
        "id": "TuDkxBxUoyUy"
      }
    },
    {
      "cell_type": "code",
      "source": [
        "from sklearn.metrics import f1_score, accuracy_score, log_loss, roc_auc_score\n",
        "\n",
        "for c in L:\n",
        "    y_preds = np.zeros(K_train.n_objects)\n",
        "    y_preds[list(c.extent_i)] = 1\n",
        "    c.measures['f1_score'] = f1_score(y_train, y_preds)\n",
        "    c.measures['accuracy_score'] = accuracy_score(y_train, y_preds)\n",
        "    c.measures['log_loss'] = log_loss(y_train, y_preds)\n",
        "    c.measures['roc_auc_score'] = log_loss(y_train, y_preds)"
      ],
      "metadata": {
        "id": "D52EQI1Xo0Jv"
      },
      "execution_count": 663,
      "outputs": []
    },
    {
      "cell_type": "markdown",
      "source": [
        "\n",
        "Select indices of the best concepts from the lattice"
      ],
      "metadata": {
        "id": "cuzoWb8To2lZ"
      }
    },
    {
      "cell_type": "code",
      "source": [
        "for score in ['f1_score', 'accuracy_score', 'log_loss', 'roc_auc_score']:\n",
        "  best_concepts = list(L.measures[score].argsort()[::-1])\n",
        "  i = 70\n",
        "  while len({g_i for c in L[best_concepts] for g_i in c.extent_i})==K_train.n_objects:\n",
        "    i -=1\n",
        "    best_concepts = list(L.measures[score].argsort()[::-1][:i])\n",
        "    \n",
        "  print(str(i+1) + ' concepts with ' + score)"
      ],
      "metadata": {
        "colab": {
          "base_uri": "https://localhost:8080/"
        },
        "id": "54pcmGx9V9rD",
        "outputId": "bf6d3cc4-8b1d-4e5f-af24-6d4e8fef9295"
      },
      "execution_count": 689,
      "outputs": [
        {
          "output_type": "stream",
          "name": "stdout",
          "text": [
            "23 concepts with f1_score\n",
            "28 concepts with accuracy_score\n",
            "3 concepts with log_loss\n",
            "3 concepts with roc_auc_score\n"
          ]
        }
      ]
    },
    {
      "cell_type": "code",
      "source": [
        "best_concepts = list(L.measures['accuracy_score'].argsort()[::-1])\n",
        "i = 70\n",
        "while len({g_i for c in L[best_concepts] for g_i in c.extent_i})==K_train.n_objects:\n",
        "  i -=1\n",
        "  best_concepts = list(L.measures['accuracy_score'].argsort()[::-1][:i])\n",
        "i+1"
      ],
      "metadata": {
        "colab": {
          "base_uri": "https://localhost:8080/"
        },
        "id": "3ODp0pWuW-mP",
        "outputId": "d59cefc8-4902-4efc-9b3f-e425aae362f2"
      },
      "execution_count": 666,
      "outputs": [
        {
          "output_type": "execute_result",
          "data": {
            "text/plain": [
              "28"
            ]
          },
          "metadata": {},
          "execution_count": 666
        }
      ]
    },
    {
      "cell_type": "code",
      "source": [
        "best_concepts = list(L.measures['log_loss'].argsort()[::-1])\n",
        "i = 70\n",
        "while len({g_i for c in L[best_concepts] for g_i in c.extent_i})==K_train.n_objects:\n",
        "  i -=1\n",
        "  best_concepts = list(L.measures['log_loss'].argsort()[::-1][:i])\n",
        "  \n",
        "i+1"
      ],
      "metadata": {
        "colab": {
          "base_uri": "https://localhost:8080/"
        },
        "id": "lurY9gjXXUcb",
        "outputId": "c768e059-bb8f-4451-c1e4-d93c43b6cc68"
      },
      "execution_count": 667,
      "outputs": [
        {
          "output_type": "execute_result",
          "data": {
            "text/plain": [
              "3"
            ]
          },
          "metadata": {},
          "execution_count": 667
        }
      ]
    },
    {
      "cell_type": "code",
      "source": [
        "best_concepts = list(L.measures['roc_auc_score'].argsort()[::-1])\n",
        "i = 70\n",
        "while len({g_i for c in L[best_concepts] for g_i in c.extent_i})==K_train.n_objects:\n",
        "  i -=1\n",
        "  best_concepts = list(L.measures['roc_auc_score'].argsort()[::-1][:i])\n",
        "  \n",
        "i+1"
      ],
      "metadata": {
        "colab": {
          "base_uri": "https://localhost:8080/"
        },
        "id": "SEQ_nuXbZUoy",
        "outputId": "dad9fe2d-d0f3-4a42-ed0d-0205752302e6"
      },
      "execution_count": 669,
      "outputs": [
        {
          "output_type": "execute_result",
          "data": {
            "text/plain": [
              "3"
            ]
          },
          "metadata": {},
          "execution_count": 669
        }
      ]
    },
    {
      "cell_type": "code",
      "source": [
        "best_concepts = list(L.measures['roc_auc_score'].argsort()[::-1][:i+1])\n",
        "\n",
        "assert len({g_i for c in L[best_concepts] for g_i in c.extent_i})==K_train.n_objects, \"Selected concepts do not cover all train objects\""
      ],
      "metadata": {
        "id": "uHO02I5Qo4y_"
      },
      "execution_count": 670,
      "outputs": []
    },
    {
      "cell_type": "markdown",
      "source": [
        "\n",
        "Construct neural network based on concept lattice"
      ],
      "metadata": {
        "id": "8OVf8cCFo8C2"
      }
    },
    {
      "cell_type": "code",
      "source": [
        "cn = nl.ConceptNetwork.from_lattice(L, best_concepts, sorted(set(y_train)))"
      ],
      "metadata": {
        "id": "c9XAk7R-o84D"
      },
      "execution_count": 671,
      "outputs": []
    },
    {
      "cell_type": "markdown",
      "source": [
        "Setup visuzalier for the architecture"
      ],
      "metadata": {
        "id": "Rj5VNmO0o_3N"
      }
    },
    {
      "cell_type": "code",
      "source": [
        "vis = LineVizNx(node_label_font_size=14, node_label_func=lambda el_i, P: nl.neuron_label_func(el_i, P, set(cn.attributes))+'\\n\\n')"
      ],
      "metadata": {
        "id": "Ao2YMT05pCFz"
      },
      "execution_count": 672,
      "outputs": []
    },
    {
      "cell_type": "markdown",
      "source": [
        "Move the nodes in visualization to make it look pretty"
      ],
      "metadata": {
        "id": "xtKsQx07pF4X"
      }
    },
    {
      "cell_type": "code",
      "source": [
        "vis.init_mover_per_poset(cn.poset)\n",
        "mvr = vis.mover\n",
        "for a, b in []:\n",
        "    mvr.swap_nodes(a, b)\n",
        "    "
      ],
      "metadata": {
        "id": "RK_BWMvBpJ6t"
      },
      "execution_count": 673,
      "outputs": []
    },
    {
      "cell_type": "code",
      "source": [
        "descr = {'>10000', '>1.8', 'C_Red'}\n",
        "\n",
        "traced = cn.trace_description(descr, include_targets=True)"
      ],
      "metadata": {
        "id": "Qh1Lp1oopNAk"
      },
      "execution_count": 674,
      "outputs": []
    },
    {
      "cell_type": "code",
      "source": [
        "fig, ax = plt.subplots(figsize=(15,5))\n",
        "\n",
        "vis.draw_poset(\n",
        "    cn.poset, ax=ax, \n",
        "    flg_node_indices=False,\n",
        "    node_label_func=lambda el_i, P: nl.neuron_label_func(el_i, P, set(cn.attributes), only_new_attrs=True)+'\\n\\n',\n",
        "    node_color=['darkblue' if el_i in traced else 'lightgray' for el_i in range(len(cn.poset))]\n",
        ")\n",
        "plt.title(f'NN based on 3 best concepts from monotone concept lattice', loc='left', x=0.05, size=24)\n",
        "\n",
        "plt.text(max(vis.mover.posx), min(vis.mover.posy)-0.3, f'*Blue neurons are the ones activated by description {descr}', fontsize=14, ha='right', color='dimgray')\n",
        "\n",
        "plt.subplots_adjust()\n",
        "plt.tight_layout()\n",
        "plt.show()"
      ],
      "metadata": {
        "colab": {
          "base_uri": "https://localhost:8080/",
          "height": 371
        },
        "id": "5Fy7rF_OCKTw",
        "outputId": "bc4825f8-0356-4a88-c07a-d8d189ce6245"
      },
      "execution_count": 675,
      "outputs": [
        {
          "output_type": "display_data",
          "data": {
            "text/plain": [
              "<Figure size 1080x360 with 1 Axes>"
            ],
            "image/png": "[encoded data removed]"
          },
          "metadata": {}
        }
      ]
    },
    {
      "cell_type": "markdown",
      "source": [
        "Now fit the network"
      ],
      "metadata": {
        "id": "SHvmEG3-pSyS"
      }
    },
    {
      "cell_type": "code",
      "source": [
        "cn.fit(X_train, y_train)"
      ],
      "metadata": {
        "id": "C-oq694zpUd2"
      },
      "execution_count": 682,
      "outputs": []
    },
    {
      "cell_type": "markdown",
      "source": [
        "\n",
        "To obtain the prediction"
      ],
      "metadata": {
        "id": "CSmCursEpWeW"
      }
    },
    {
      "cell_type": "code",
      "source": [
        "import sklearn\n",
        "sklearn.metrics.accuracy_score(y_test.values, cn.predict(X_test).numpy())"
      ],
      "metadata": {
        "colab": {
          "base_uri": "https://localhost:8080/"
        },
        "id": "ZrXVE-c9Q9mS",
        "outputId": "867c9967-31de-4bd0-b19d-50b62c7c5018"
      },
      "execution_count": 683,
      "outputs": [
        {
          "output_type": "execute_result",
          "data": {
            "text/plain": [
              "0.9875"
            ]
          },
          "metadata": {},
          "execution_count": 683
        }
      ]
    },
    {
      "cell_type": "code",
      "source": [
        "cn.predict_proba(X_test)"
      ],
      "metadata": {
        "colab": {
          "base_uri": "https://localhost:8080/"
        },
        "id": "S2_XjWZpXo1O",
        "outputId": "889878c8-5651-4337-fc60-92df6348e0fa"
      },
      "execution_count": 688,
      "outputs": [
        {
          "output_type": "execute_result",
          "data": {
            "text/plain": [
              "tensor([[9.7050e-01, 2.9497e-02],\n",
              "        [9.9396e-01, 6.0429e-03],\n",
              "        [1.2688e-01, 8.7312e-01],\n",
              "        [9.0941e-03, 9.9091e-01],\n",
              "        [9.0941e-03, 9.9091e-01],\n",
              "        [1.0616e-06, 1.0000e+00],\n",
              "        [2.4030e-04, 9.9976e-01],\n",
              "        [9.7050e-01, 2.9497e-02],\n",
              "        [9.9396e-01, 6.0429e-03],\n",
              "        [9.7050e-01, 2.9497e-02],\n",
              "        [1.2001e-03, 9.9880e-01],\n",
              "        [9.9920e-01, 7.9535e-04],\n",
              "        [1.2001e-03, 9.9880e-01],\n",
              "        [9.0941e-03, 9.9091e-01],\n",
              "        [1.2001e-03, 9.9880e-01],\n",
              "        [2.4030e-04, 9.9976e-01],\n",
              "        [9.9396e-01, 6.0429e-03],\n",
              "        [9.9396e-01, 6.0429e-03],\n",
              "        [2.4030e-04, 9.9976e-01],\n",
              "        [9.9396e-01, 6.0429e-03],\n",
              "        [9.9396e-01, 6.0429e-03],\n",
              "        [9.9396e-01, 6.0429e-03],\n",
              "        [9.0941e-03, 9.9091e-01],\n",
              "        [9.0941e-03, 9.9091e-01],\n",
              "        [9.0941e-03, 9.9091e-01],\n",
              "        [2.4030e-04, 9.9976e-01],\n",
              "        [9.9396e-01, 6.0429e-03],\n",
              "        [9.9920e-01, 7.9535e-04],\n",
              "        [1.0842e-04, 9.9989e-01],\n",
              "        [2.4030e-04, 9.9976e-01],\n",
              "        [1.2688e-01, 8.7312e-01],\n",
              "        [9.0941e-03, 9.9091e-01],\n",
              "        [9.7050e-01, 2.9497e-02],\n",
              "        [9.9396e-01, 6.0429e-03],\n",
              "        [9.9396e-01, 6.0429e-03],\n",
              "        [9.9396e-01, 6.0429e-03],\n",
              "        [9.9396e-01, 6.0429e-03],\n",
              "        [1.2001e-03, 9.9880e-01],\n",
              "        [9.9396e-01, 6.0429e-03],\n",
              "        [1.2001e-03, 9.9880e-01],\n",
              "        [9.0941e-03, 9.9091e-01],\n",
              "        [1.2001e-03, 9.9880e-01],\n",
              "        [9.0941e-03, 9.9091e-01],\n",
              "        [9.9396e-01, 6.0429e-03],\n",
              "        [2.4030e-04, 9.9976e-01],\n",
              "        [9.9396e-01, 6.0429e-03],\n",
              "        [4.0415e-05, 9.9996e-01],\n",
              "        [1.2688e-01, 8.7312e-01],\n",
              "        [9.9396e-01, 6.0429e-03],\n",
              "        [9.9396e-01, 6.0429e-03],\n",
              "        [9.9920e-01, 7.9535e-04],\n",
              "        [9.9396e-01, 6.0429e-03],\n",
              "        [9.9920e-01, 7.9535e-04],\n",
              "        [9.9396e-01, 6.0429e-03],\n",
              "        [9.0941e-03, 9.9091e-01],\n",
              "        [9.9920e-01, 7.9535e-04],\n",
              "        [1.2001e-03, 9.9880e-01],\n",
              "        [1.0842e-04, 9.9989e-01],\n",
              "        [9.9396e-01, 6.0429e-03],\n",
              "        [9.9396e-01, 6.0429e-03],\n",
              "        [2.4030e-04, 9.9976e-01],\n",
              "        [9.9396e-01, 6.0429e-03],\n",
              "        [9.9396e-01, 6.0429e-03],\n",
              "        [9.9396e-01, 6.0429e-03],\n",
              "        [9.0941e-03, 9.9091e-01],\n",
              "        [9.9396e-01, 6.0429e-03],\n",
              "        [9.0941e-03, 9.9091e-01],\n",
              "        [9.7050e-01, 2.9497e-02],\n",
              "        [1.2001e-03, 9.9880e-01],\n",
              "        [9.9396e-01, 6.0429e-03],\n",
              "        [2.4030e-04, 9.9976e-01],\n",
              "        [1.2001e-03, 9.9880e-01],\n",
              "        [1.2656e-01, 8.7344e-01],\n",
              "        [9.9396e-01, 6.0429e-03],\n",
              "        [9.9396e-01, 6.0429e-03],\n",
              "        [9.3688e-01, 6.3117e-02],\n",
              "        [9.9396e-01, 6.0429e-03],\n",
              "        [1.2001e-03, 9.9880e-01],\n",
              "        [4.1233e-03, 9.9588e-01],\n",
              "        [9.0941e-03, 9.9091e-01]], grad_fn=<SoftmaxBackward0>)"
            ]
          },
          "metadata": {},
          "execution_count": 688
        }
      ]
    },
    {
      "cell_type": "markdown",
      "source": [
        "Let us look at the fitted weights of edges"
      ],
      "metadata": {
        "id": "hmY9jr34ph_C"
      }
    },
    {
      "cell_type": "code",
      "source": [
        "edge_weights = cn.edge_weights_from_network()"
      ],
      "metadata": {
        "id": "4YqXnLOqphX8"
      },
      "execution_count": 661,
      "outputs": []
    },
    {
      "cell_type": "code",
      "source": [
        "import networkx as nx\n",
        "\n",
        "fig, ax = plt.subplots(figsize=(15,10))\n",
        "\n",
        "vis.draw_poset(\n",
        "    cn.poset, ax=ax, \n",
        "    flg_node_indices=False,\n",
        "    node_label_func=lambda el_i, P: nl.neuron_label_func(el_i, P, set(cn.attributes), only_new_attrs=True)+'\\n\\n',\n",
        "    edge_color=[edge_weights[edge] for edge in cn.poset.to_networkx().edges],\n",
        "    edge_cmap=plt.cm.RdBu,\n",
        ")\n",
        "nx.draw_networkx_edge_labels(cn.poset.to_networkx(), vis.mover.pos, {k: f\"{v:.1f}\" for k,v in edge_weights.items()}, label_pos=0.7)\n",
        "\n",
        "plt.title('Neural network with fitted edge weights', size=24, x=0.05, loc='left')\n",
        "plt.tight_layout()\n",
        "plt.subplots_adjust()\n",
        "plt.savefig('fitted_network.png')\n",
        "plt.show()"
      ],
      "metadata": {
        "id": "4NJt3eGupmoP",
        "outputId": "65b7df00-5c54-4d19-9408-ce314ffa3b8e",
        "colab": {
          "base_uri": "https://localhost:8080/",
          "height": 729
        }
      },
      "execution_count": 662,
      "outputs": [
        {
          "output_type": "display_data",
          "data": {
            "text/plain": [
              "<Figure size 1080x720 with 1 Axes>"
            ],
            "image/png": "[encoded data removed]"
          },
          "metadata": {}
        }
      ]
    },
    {
      "cell_type": "code",
      "source": [
        "sklearn.metrics.get_scorer_names()"
      ],
      "metadata": {
        "colab": {
          "base_uri": "https://localhost:8080/"
        },
        "id": "s00HUfhMz0sT",
        "outputId": "f2ef7be9-5948-496d-e5fa-219cae21594d"
      },
      "execution_count": 692,
      "outputs": [
        {
          "output_type": "execute_result",
          "data": {
            "text/plain": [
              "['accuracy',\n",
              " 'adjusted_mutual_info_score',\n",
              " 'adjusted_rand_score',\n",
              " 'average_precision',\n",
              " 'balanced_accuracy',\n",
              " 'completeness_score',\n",
              " 'explained_variance',\n",
              " 'f1',\n",
              " 'f1_macro',\n",
              " 'f1_micro',\n",
              " 'f1_samples',\n",
              " 'f1_weighted',\n",
              " 'fowlkes_mallows_score',\n",
              " 'homogeneity_score',\n",
              " 'jaccard',\n",
              " 'jaccard_macro',\n",
              " 'jaccard_micro',\n",
              " 'jaccard_samples',\n",
              " 'jaccard_weighted',\n",
              " 'matthews_corrcoef',\n",
              " 'max_error',\n",
              " 'mutual_info_score',\n",
              " 'neg_brier_score',\n",
              " 'neg_log_loss',\n",
              " 'neg_mean_absolute_error',\n",
              " 'neg_mean_absolute_percentage_error',\n",
              " 'neg_mean_gamma_deviance',\n",
              " 'neg_mean_poisson_deviance',\n",
              " 'neg_mean_squared_error',\n",
              " 'neg_mean_squared_log_error',\n",
              " 'neg_median_absolute_error',\n",
              " 'neg_negative_likelihood_ratio',\n",
              " 'neg_root_mean_squared_error',\n",
              " 'normalized_mutual_info_score',\n",
              " 'positive_likelihood_ratio',\n",
              " 'precision',\n",
              " 'precision_macro',\n",
              " 'precision_micro',\n",
              " 'precision_samples',\n",
              " 'precision_weighted',\n",
              " 'r2',\n",
              " 'rand_score',\n",
              " 'recall',\n",
              " 'recall_macro',\n",
              " 'recall_micro',\n",
              " 'recall_samples',\n",
              " 'recall_weighted',\n",
              " 'roc_auc',\n",
              " 'roc_auc_ovo',\n",
              " 'roc_auc_ovo_weighted',\n",
              " 'roc_auc_ovr',\n",
              " 'roc_auc_ovr_weighted',\n",
              " 'top_k_accuracy',\n",
              " 'v_measure_score']"
            ]
          },
          "metadata": {},
          "execution_count": 692
        }
      ]
    },
    {
      "cell_type": "code",
      "source": [
        "from sklearn.model_selection import KFold\n",
        "metrics = {'fca_ac':[], 'fca_f1':[]}\n",
        "kf = KFold(n_splits=5)\n",
        "for train, test in kf.split(df_bin.drop(columns=['y']), df_bin['y']):\n",
        "  X_tr = df_bin.drop(columns=['y']).iloc[train]\n",
        "  y_tr = df_bin['y'][train]\n",
        "  X_te = df_bin.drop(columns=['y']).iloc[train]\n",
        "  y_te = df_bin['y'][train]  \n",
        "  cn.fit(X_tr, y_tr)\n",
        "  metrics['fca_f1'].append(sklearn.metrics.f1_score(y_te.values, cn.predict(X_te).numpy()))\n",
        "  metrics['fca_ac'].append(sklearn.metrics.accuracy_score(y_te.values, cn.predict(X_te).numpy()))\n",
        "\n"
      ],
      "metadata": {
        "id": "6UY3l_xozEfR"
      },
      "execution_count": 706,
      "outputs": []
    },
    {
      "cell_type": "code",
      "source": [
        "from sklearn.linear_model import LogisticRegression\n",
        "\n",
        "df_for_log = pd.concat([df[['Temperature', 'R']], Clr, Type], axis=1).rename(columns={0:'y'})"
      ],
      "metadata": {
        "id": "wLYctzOL3hFg"
      },
      "execution_count": 715,
      "outputs": []
    },
    {
      "cell_type": "code",
      "source": [
        "log_reg = LogisticRegression()\n",
        "metrics['lreg_f1'] = []\n",
        "metrics['lreg_ac'] = []\n",
        "kf = KFold(n_splits=5)\n",
        "for train, test in kf.split(df_for_log.drop(columns=['y']), df_for_log['y']):\n",
        "  X_tr = df_bin.drop(columns=['y']).iloc[train]\n",
        "  y_tr = df_bin['y'][train]\n",
        "  X_te = df_bin.drop(columns=['y']).iloc[train]\n",
        "  y_te = df_bin['y'][train]  \n",
        "  log_reg.fit(X_tr, y_tr)\n",
        "  metrics['lreg_f1'].append(sklearn.metrics.f1_score(y_te.values, log_reg.predict(X_te)))\n",
        "  metrics['lreg_ac'].append(sklearn.metrics.accuracy_score(y_te.values, log_reg.predict(X_te)))"
      ],
      "metadata": {
        "id": "THQ2Mtei4StZ"
      },
      "execution_count": 728,
      "outputs": []
    },
    {
      "cell_type": "code",
      "source": [
        "from sklearn.svm import SVC\n",
        "\n",
        "clf =  SVC(kernel=\"linear\", C=0.025)\n",
        "\n",
        "metrics['scv_f1'] = []\n",
        "metrics['svc_ac'] = []\n",
        "kf = KFold(n_splits=5)\n",
        "for train, test in kf.split(df_for_log.drop(columns=['y']), df_for_log['y']):\n",
        "  X_tr = df_bin.drop(columns=['y']).iloc[train]\n",
        "  y_tr = df_bin['y'][train]\n",
        "  X_te = df_bin.drop(columns=['y']).iloc[train]\n",
        "  y_te = df_bin['y'][train]  \n",
        "  clf.fit(X_tr, y_tr)\n",
        "  metrics['scv_f1'].append(sklearn.metrics.f1_score(y_te.values, clf.predict(X_te)))\n",
        "  metrics['svc_ac'].append(sklearn.metrics.accuracy_score(y_te.values, clf.predict(X_te)))"
      ],
      "metadata": {
        "id": "T-G2CODU6SP8"
      },
      "execution_count": 729,
      "outputs": []
    },
    {
      "cell_type": "code",
      "source": [
        "from sklearn.tree import DecisionTreeClassifier\n",
        "\n",
        "clf =  DecisionTreeClassifier(max_depth=2)\n",
        "metrics['tree_f1'] = []\n",
        "metrics['tree_ac'] = []\n",
        "kf = KFold(n_splits=5)\n",
        "for train, test in kf.split(df_for_log.drop(columns=['y']), df_for_log['y']):\n",
        "  X_tr = df_bin.drop(columns=['y']).iloc[train]\n",
        "  y_tr = df_bin['y'][train]\n",
        "  X_te = df_bin.drop(columns=['y']).iloc[train]\n",
        "  y_te = df_bin['y'][train]  \n",
        "  clf.fit(X_tr, y_tr)\n",
        "  metrics['tree_f1'].append(sklearn.metrics.f1_score(y_te.values, clf.predict(X_te)))\n",
        "  metrics['tree_ac'].append(sklearn.metrics.accuracy_score(y_te.values, clf.predict(X_te)))"
      ],
      "metadata": {
        "id": "QvHVDFS87OK6"
      },
      "execution_count": 733,
      "outputs": []
    },
    {
      "cell_type": "code",
      "source": [
        "pd.DataFrame(pd.DataFrame.from_dict(metrics).mean())"
      ],
      "metadata": {
        "colab": {
          "base_uri": "https://localhost:8080/",
          "height": 300
        },
        "id": "2GxhXNTc6fys",
        "outputId": "02a8a1ea-4fa5-4b9e-e949-c69dd7f98bfb"
      },
      "execution_count": 738,
      "outputs": [
        {
          "output_type": "execute_result",
          "data": {
            "text/plain": [
              "                0\n",
              "fca_ac   0.979167\n",
              "fca_f1   0.977290\n",
              "lreg_f1  1.000000\n",
              "lreg_ac  1.000000\n",
              "scv_f1   0.978336\n",
              "svc_ac   0.979167\n",
              "tree_f1  0.995839\n",
              "tree_ac  0.995833"
            ],
            "text/html": [
              "\n",
              "  <div id=\"df-342aa459-ace3-4328-96a9-c9086c5a09d6\">\n",
              "    <div class=\"colab-df-container\">\n",
              "      <div>\n",
              "<style scoped>\n",
              "    .dataframe tbody tr th:only-of-type {\n",
              "        vertical-align: middle;\n",
              "    }\n",
              "\n",
              "    .dataframe tbody tr th {\n",
              "        vertical-align: top;\n",
              "    }\n",
              "\n",
              "    .dataframe thead th {\n",
              "        text-align: right;\n",
              "    }\n",
              "</style>\n",
              "<table border=\"1\" class=\"dataframe\">\n",
              "  <thead>\n",
              "    <tr style=\"text-align: right;\">\n",
              "      <th></th>\n",
              "      <th>0</th>\n",
              "    </tr>\n",
              "  </thead>\n",
              "  <tbody>\n",
              "    <tr>\n",
              "      <th>fca_ac</th>\n",
              "      <td>0.979167</td>\n",
              "    </tr>\n",
              "    <tr>\n",
              "      <th>fca_f1</th>\n",
              "      <td>0.977290</td>\n",
              "    </tr>\n",
              "    <tr>\n",
              "      <th>lreg_f1</th>\n",
              "      <td>1.000000</td>\n",
              "    </tr>\n",
              "    <tr>\n",
              "      <th>lreg_ac</th>\n",
              "      <td>1.000000</td>\n",
              "    </tr>\n",
              "    <tr>\n",
              "      <th>scv_f1</th>\n",
              "      <td>0.978336</td>\n",
              "    </tr>\n",
              "    <tr>\n",
              "      <th>svc_ac</th>\n",
              "      <td>0.979167</td>\n",
              "    </tr>\n",
              "    <tr>\n",
              "      <th>tree_f1</th>\n",
              "      <td>0.995839</td>\n",
              "    </tr>\n",
              "    <tr>\n",
              "      <th>tree_ac</th>\n",
              "      <td>0.995833</td>\n",
              "    </tr>\n",
              "  </tbody>\n",
              "</table>\n",
              "</div>\n",
              "      <button class=\"colab-df-convert\" onclick=\"convertToInteractive('df-342aa459-ace3-4328-96a9-c9086c5a09d6')\"\n",
              "              title=\"Convert this dataframe to an interactive table.\"\n",
              "              style=\"display:none;\">\n",
              "        \n",
              "  <svg xmlns=\"http://www.w3.org/2000/svg\" height=\"24px\"viewBox=\"0 0 24 24\"\n",
              "       width=\"24px\">\n",
              "    <path d=\"M0 0h24v24H0V0z\" fill=\"none\"/>\n",
              "    <path d=\"M18.56 5.44l.94 2.06.94-2.06 2.06-.94-2.06-.94-.94-2.06-.94 2.06-2.06.94zm-11 1L8.5 8.5l.94-2.06 2.06-.94-2.06-.94L8.5 2.5l-.94 2.06-2.06.94zm10 10l.94 2.06.94-2.06 2.06-.94-2.06-.94-.94-2.06-.94 2.06-2.06.94z\"/><path d=\"M17.41 7.96l-1.37-1.37c-.4-.4-.92-.59-1.43-.59-.52 0-1.04.2-1.43.59L10.3 9.45l-7.72 7.72c-.78.78-.78 2.05 0 2.83L4 21.41c.39.39.9.59 1.41.59.51 0 1.02-.2 1.41-.59l7.78-7.78 2.81-2.81c.8-.78.8-2.07 0-2.86zM5.41 20L4 18.59l7.72-7.72 1.47 1.35L5.41 20z\"/>\n",
              "  </svg>\n",
              "      </button>\n",
              "      \n",
              "  <style>\n",
              "    .colab-df-container {\n",
              "      display:flex;\n",
              "      flex-wrap:wrap;\n",
              "      gap: 12px;\n",
              "    }\n",
              "\n",
              "    .colab-df-convert {\n",
              "      background-color: #E8F0FE;\n",
              "      border: none;\n",
              "      border-radius: 50%;\n",
              "      cursor: pointer;\n",
              "      display: none;\n",
              "      fill: #1967D2;\n",
              "      height: 32px;\n",
              "      padding: 0 0 0 0;\n",
              "      width: 32px;\n",
              "    }\n",
              "\n",
              "    .colab-df-convert:hover {\n",
              "      background-color: #E2EBFA;\n",
              "      box-shadow: 0px 1px 2px rgba(60, 64, 67, 0.3), 0px 1px 3px 1px rgba(60, 64, 67, 0.15);\n",
              "      fill: #174EA6;\n",
              "    }\n",
              "\n",
              "    [theme=dark] .colab-df-convert {\n",
              "      background-color: #3B4455;\n",
              "      fill: #D2E3FC;\n",
              "    }\n",
              "\n",
              "    [theme=dark] .colab-df-convert:hover {\n",
              "      background-color: #434B5C;\n",
              "      box-shadow: 0px 1px 3px 1px rgba(0, 0, 0, 0.15);\n",
              "      filter: drop-shadow(0px 1px 2px rgba(0, 0, 0, 0.3));\n",
              "      fill: #FFFFFF;\n",
              "    }\n",
              "  </style>\n",
              "\n",
              "      <script>\n",
              "        const buttonEl =\n",
              "          document.querySelector('#df-342aa459-ace3-4328-96a9-c9086c5a09d6 button.colab-df-convert');\n",
              "        buttonEl.style.display =\n",
              "          google.colab.kernel.accessAllowed ? 'block' : 'none';\n",
              "\n",
              "        async function convertToInteractive(key) {\n",
              "          const element = document.querySelector('#df-342aa459-ace3-4328-96a9-c9086c5a09d6');\n",
              "          const dataTable =\n",
              "            await google.colab.kernel.invokeFunction('convertToInteractive',\n",
              "                                                     [key], {});\n",
              "          if (!dataTable) return;\n",
              "\n",
              "          const docLinkHtml = 'Like what you see? Visit the ' +\n",
              "            '<a target=\"_blank\" href=https://colab.research.google.com/notebooks/data_table.ipynb>data table notebook</a>'\n",
              "            + ' to learn more about interactive tables.';\n",
              "          element.innerHTML = '';\n",
              "          dataTable['output_type'] = 'display_data';\n",
              "          await google.colab.output.renderOutput(dataTable, element);\n",
              "          const docLink = document.createElement('div');\n",
              "          docLink.innerHTML = docLinkHtml;\n",
              "          element.appendChild(docLink);\n",
              "        }\n",
              "      </script>\n",
              "    </div>\n",
              "  </div>\n",
              "  "
            ]
          },
          "metadata": {},
          "execution_count": 738
        }
      ]
    }
  ]
}